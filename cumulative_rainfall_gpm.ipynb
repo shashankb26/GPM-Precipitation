{
 "cells": [
  {
   "cell_type": "code",
   "execution_count": 5,
   "metadata": {},
   "outputs": [
    {
     "name": "stdout",
     "output_type": "stream",
     "text": [
      "Processed 2025-03-12 to 2025-03-26, file saved as cumulative_precipitation_20250312_to_20250326.csv.\n",
      "Cumulative rainfall\n"
     ]
    }
   ],
   "source": [
    "import os\n",
    "import pandas as pd\n",
    "\n",
    "script_directory = \"E:/shashank/scripts/gpm\"\n",
    "input_directory = os.path.join(script_directory, \"daily_rainfall_output\")\n",
    "output_directory = os.path.join(script_directory, \"cumulative_rainfall\")\n",
    "\n",
    "os.makedirs(output_directory, exist_ok=True)\n",
    "all_files = sorted([f for f in os.listdir(input_directory) if f.startswith(\"daily_rainfall_\") and f.endswith(\".csv\")])\n",
    "\n",
    "num_files = len(all_files)\n",
    "if num_files < 15:\n",
    "    print(\"Error: Not enough files for 15-day cumulative processing. Found:\", num_files)\n",
    "    exit()\n",
    "\n",
    "date_ranges = [range(i, i + 15) for i in range(num_files - 14)]\n",
    "\n",
    "for date_range in date_ranges:\n",
    "    try:\n",
    "        # Extract and convert start and end dates\n",
    "        start_date_str = all_files[date_range[0]].split('_')[2].split('.')[0]\n",
    "        end_date_str = all_files[date_range[-1]].split('_')[2].split('.')[0]\n",
    "        \n",
    "        start_date = pd.to_datetime(start_date_str, format=\"%Y%m%d\")\n",
    "        end_date = pd.to_datetime(end_date_str, format=\"%Y%m%d\")\n",
    "        \n",
    "        output_file = f\"cumulative_precipitation_{start_date_str}_to_{end_date_str}.csv\"\n",
    "        output_path = os.path.join(output_directory, output_file)\n",
    "        if os.path.exists(output_path):\n",
    "            print(f\"Skipping {start_date} to {end_date}, file already exists.\")\n",
    "            continue\n",
    "\n",
    "        cumulative_df = None\n",
    "\n",
    "        for i in date_range:\n",
    "            file_path = os.path.join(input_directory, all_files[i])\n",
    "            daily_df = pd.read_csv(file_path)\n",
    "            if \"Total_Rainfall (mm)\" not in daily_df.columns:\n",
    "                print(f\"Error: Column 'Total_Rainfall (mm)' not found in {file_path}. Skipping file.\")\n",
    "                continue\n",
    "            if cumulative_df is None:\n",
    "                cumulative_df = daily_df.copy()\n",
    "            else:\n",
    "                cumulative_df[\"Total_Rainfall (mm)\"] += daily_df[\"Total_Rainfall (mm)\"]\n",
    "\n",
    "        # Add formatted start and end dates\n",
    "        cumulative_df[\"Start_date\"] = start_date.strftime(\"%Y-%m-%d\")\n",
    "        cumulative_df[\"End_date\"] = end_date.strftime(\"%Y-%m-%d\")\n",
    "\n",
    "        cumulative_df.to_csv(output_path, index=False)\n",
    "        print(f\"Processed {start_date.strftime('%Y-%m-%d')} to {end_date.strftime('%Y-%m-%d')}, file saved as {output_file}.\")\n",
    "\n",
    "    except Exception as e:\n",
    "        print(f\"Error processing range {start_date} to {end_date}: {e}\")\n",
    "\n",
    "print(\"Cumulative rainfall\")\n"
   ]
  },
  {
   "cell_type": "code",
   "execution_count": 22,
   "metadata": {},
   "outputs": [
    {
     "name": "stdout",
     "output_type": "stream",
     "text": [
      "Saving file to: z:\\Shashank\\GPM_Script\n"
     ]
    }
   ],
   "source": [
    "import os\n",
    "print(\"Saving file to:\", os.getcwd())\n"
   ]
  }
 ],
 "metadata": {
  "kernelspec": {
   "display_name": "Python 3",
   "language": "python",
   "name": "python3"
  },
  "language_info": {
   "codemirror_mode": {
    "name": "ipython",
    "version": 3
   },
   "file_extension": ".py",
   "mimetype": "text/x-python",
   "name": "python",
   "nbconvert_exporter": "python",
   "pygments_lexer": "ipython3",
   "version": "3.11.5"
  }
 },
 "nbformat": 4,
 "nbformat_minor": 2
}
